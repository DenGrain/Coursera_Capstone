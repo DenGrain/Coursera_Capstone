{
    "nbformat_minor": 1, 
    "cells": [
        {
            "source": "# Code from part 1 - please scroll to Part 2", 
            "cell_type": "markdown", 
            "metadata": {}
        }, 
        {
            "source": "import numpy as np # library to handle data in a vectorized manner\nimport pandas as pd # library for data analsysis\npd.set_option('display.max_columns', None)\npd.set_option('display.max_rows', None)\nimport urllib # library to handle requests\nimport requests\n# import BeautifulSoup\nfrom bs4 import BeautifulSoup\n# tranforming json file into a pandas dataframe library\nfrom pandas.io.json import json_normalize\nimport lxml\nimport csv", 
            "cell_type": "code", 
            "metadata": {}, 
            "outputs": [], 
            "execution_count": null
        }, 
        {
            "source": "url = 'https://en.wikipedia.org/wiki/List_of_postal_codes_of_Canada:_M'\n\n#get response from url\nres = requests.get(url).text\n\n#scrape\nsoup = BeautifulSoup(res, 'lxml')\ntable = soup.find('table')\n\n#csv\ncsv_file = open('Toronto.csv', 'w')\ncsv_writer = csv.writer(csv_file)\ncsv_writer.writerow(['Postal Code','Borough','Neighborhood'])\n\nrowdata = ''\nxx = ''\nfor record in table.find_all('tr'):\n    rowdata = ''\n    for data in record.find_all('td'):\n        rowdata = rowdata + ',' + data.text\n    xx = rowdata[1:-1]\n    xx = xx.split(',')\n\n    if len(xx) > 1:\n       postcode = xx[0]\n       borough = xx[1] \n       neighborhood = xx[2]+', '\n       if neighborhood == 'Not assigned, ':\n          neighborhood = borough + ', '\n       if borough != 'Not assigned':\n          csv_writer.writerow([postcode,borough,neighborhood])\ncsv_file.close()\n\n# data wrangling\n\ndf = pd.read_csv('Toronto.csv')\ndf2 = df[['Postal Code','Borough']]\ndf3 = df[['Postal Code','Neighborhood']]\ndf2 = df2.drop_duplicates(subset=None, keep='first', inplace=False)\ndf3 = df3.groupby(['Postal Code'], as_index = False).sum()\nfor i in range(df3.shape[0]):\n    xx = df3['Neighborhood'][i]\n    xx = xx[0:-2]\n    df3['Neighborhood'][i] = xx\ndf = pd.merge(df2, df3, on='Postal Code')", 
            "cell_type": "code", 
            "metadata": {}, 
            "outputs": [], 
            "execution_count": 25
        }, 
        {
            "source": "# Part 2", 
            "cell_type": "markdown", 
            "metadata": {}
        }, 
        {
            "source": "Now that you have built a dataframe of the postal code of each neighborhood along with the borough name and neighborhood name, in order to utilize the Foursquare location data, we need to get the latitude and the longitude coordinates of each neighborhood.\n\nGiven that this package can be very unreliable, in case you are not able to get the geographical coordinates of the neighborhoods using the Geocoder package, here is a link to a csv file that has the geographical coordinates of each postal code: http://cocl.us/Geospatial_data\n\nUse the Geocoder package or the csv file to create the following dataframe:", 
            "cell_type": "code", 
            "metadata": {}, 
            "outputs": [], 
            "execution_count": null
        }, 
        {
            "source": "df_ll= pd.read_csv(\"http://cocl.us/Geospatial_data\")\ndf_merge = pd.merge(df, df_ll, on='Postal Code')", 
            "cell_type": "code", 
            "metadata": {}, 
            "outputs": [], 
            "execution_count": 22
        }, 
        {
            "source": "# keep only boroughs containing the word Toronto \ntoronto_data = df_merge[df_merge['Borough'].str.contains('Toronto')].reset_index(drop=True)\n\nprint('The dataframe has {} boroughs and {} postcodes. \\n'.format(\n        len(toronto_data['Borough'].unique()),\n        toronto_data.shape[0]\n    )\n)\ntoronto_data.head(15)", 
            "cell_type": "code", 
            "metadata": {}, 
            "outputs": [
                {
                    "output_type": "stream", 
                    "name": "stdout", 
                    "text": "The dataframe has 4 boroughs and 38 postcodes. \n\n"
                }, 
                {
                    "output_type": "execute_result", 
                    "data": {
                        "text/plain": "   Postal Code           Borough  \\\n0          M5A  Downtown Toronto   \n1          M5B  Downtown Toronto   \n2          M5C  Downtown Toronto   \n3          M4E      East Toronto   \n4          M5E  Downtown Toronto   \n5          M5G  Downtown Toronto   \n6          M6G  Downtown Toronto   \n7          M5H  Downtown Toronto   \n8          M6H      West Toronto   \n9          M5J  Downtown Toronto   \n10         M6J      West Toronto   \n11         M4K      East Toronto   \n12         M5K  Downtown Toronto   \n13         M6K      West Toronto   \n14         M4L      East Toronto   \n\n                                         Neighborhood   Latitude  Longitude  \n0                           Harbourfront, Regent Park  43.654260 -79.360636  \n1                            Ryerson, Garden District  43.657162 -79.378937  \n2                                      St. James Town  43.651494 -79.375418  \n3                                         The Beaches  43.676357 -79.293031  \n4                                         Berczy Park  43.644771 -79.373306  \n5                                  Central Bay Street  43.657952 -79.387383  \n6                                            Christie  43.669542 -79.422564  \n7                            Adelaide, King, Richmond  43.650571 -79.384568  \n8                        Dovercourt Village, Dufferin  43.669005 -79.442259  \n9   Harbourfront East, Toronto Islands, Union Station  43.640816 -79.381752  \n10                           Little Portugal, Trinity  43.647927 -79.419750  \n11                       The Danforth West, Riverdale  43.679557 -79.352188  \n12           Design Exchange, Toronto Dominion Centre  43.647177 -79.381576  \n13       Brockton, Exhibition Place, Parkdale Village  43.636847 -79.428191  \n14                     The Beaches West, India Bazaar  43.668999 -79.315572  ", 
                        "text/html": "<div>\n<style scoped>\n    .dataframe tbody tr th:only-of-type {\n        vertical-align: middle;\n    }\n\n    .dataframe tbody tr th {\n        vertical-align: top;\n    }\n\n    .dataframe thead th {\n        text-align: right;\n    }\n</style>\n<table border=\"1\" class=\"dataframe\">\n  <thead>\n    <tr style=\"text-align: right;\">\n      <th></th>\n      <th>Postal Code</th>\n      <th>Borough</th>\n      <th>Neighborhood</th>\n      <th>Latitude</th>\n      <th>Longitude</th>\n    </tr>\n  </thead>\n  <tbody>\n    <tr>\n      <th>0</th>\n      <td>M5A</td>\n      <td>Downtown Toronto</td>\n      <td>Harbourfront, Regent Park</td>\n      <td>43.654260</td>\n      <td>-79.360636</td>\n    </tr>\n    <tr>\n      <th>1</th>\n      <td>M5B</td>\n      <td>Downtown Toronto</td>\n      <td>Ryerson, Garden District</td>\n      <td>43.657162</td>\n      <td>-79.378937</td>\n    </tr>\n    <tr>\n      <th>2</th>\n      <td>M5C</td>\n      <td>Downtown Toronto</td>\n      <td>St. James Town</td>\n      <td>43.651494</td>\n      <td>-79.375418</td>\n    </tr>\n    <tr>\n      <th>3</th>\n      <td>M4E</td>\n      <td>East Toronto</td>\n      <td>The Beaches</td>\n      <td>43.676357</td>\n      <td>-79.293031</td>\n    </tr>\n    <tr>\n      <th>4</th>\n      <td>M5E</td>\n      <td>Downtown Toronto</td>\n      <td>Berczy Park</td>\n      <td>43.644771</td>\n      <td>-79.373306</td>\n    </tr>\n    <tr>\n      <th>5</th>\n      <td>M5G</td>\n      <td>Downtown Toronto</td>\n      <td>Central Bay Street</td>\n      <td>43.657952</td>\n      <td>-79.387383</td>\n    </tr>\n    <tr>\n      <th>6</th>\n      <td>M6G</td>\n      <td>Downtown Toronto</td>\n      <td>Christie</td>\n      <td>43.669542</td>\n      <td>-79.422564</td>\n    </tr>\n    <tr>\n      <th>7</th>\n      <td>M5H</td>\n      <td>Downtown Toronto</td>\n      <td>Adelaide, King, Richmond</td>\n      <td>43.650571</td>\n      <td>-79.384568</td>\n    </tr>\n    <tr>\n      <th>8</th>\n      <td>M6H</td>\n      <td>West Toronto</td>\n      <td>Dovercourt Village, Dufferin</td>\n      <td>43.669005</td>\n      <td>-79.442259</td>\n    </tr>\n    <tr>\n      <th>9</th>\n      <td>M5J</td>\n      <td>Downtown Toronto</td>\n      <td>Harbourfront East, Toronto Islands, Union Station</td>\n      <td>43.640816</td>\n      <td>-79.381752</td>\n    </tr>\n    <tr>\n      <th>10</th>\n      <td>M6J</td>\n      <td>West Toronto</td>\n      <td>Little Portugal, Trinity</td>\n      <td>43.647927</td>\n      <td>-79.419750</td>\n    </tr>\n    <tr>\n      <th>11</th>\n      <td>M4K</td>\n      <td>East Toronto</td>\n      <td>The Danforth West, Riverdale</td>\n      <td>43.679557</td>\n      <td>-79.352188</td>\n    </tr>\n    <tr>\n      <th>12</th>\n      <td>M5K</td>\n      <td>Downtown Toronto</td>\n      <td>Design Exchange, Toronto Dominion Centre</td>\n      <td>43.647177</td>\n      <td>-79.381576</td>\n    </tr>\n    <tr>\n      <th>13</th>\n      <td>M6K</td>\n      <td>West Toronto</td>\n      <td>Brockton, Exhibition Place, Parkdale Village</td>\n      <td>43.636847</td>\n      <td>-79.428191</td>\n    </tr>\n    <tr>\n      <th>14</th>\n      <td>M4L</td>\n      <td>East Toronto</td>\n      <td>The Beaches West, India Bazaar</td>\n      <td>43.668999</td>\n      <td>-79.315572</td>\n    </tr>\n  </tbody>\n</table>\n</div>"
                    }, 
                    "execution_count": 27, 
                    "metadata": {}
                }
            ], 
            "execution_count": 27
        }, 
        {
            "source": "", 
            "cell_type": "code", 
            "metadata": {}, 
            "outputs": [], 
            "execution_count": null
        }
    ], 
    "metadata": {
        "kernelspec": {
            "display_name": "Python 3.5", 
            "name": "python3", 
            "language": "python"
        }, 
        "language_info": {
            "mimetype": "text/x-python", 
            "nbconvert_exporter": "python", 
            "version": "3.5.5", 
            "name": "python", 
            "pygments_lexer": "ipython3", 
            "file_extension": ".py", 
            "codemirror_mode": {
                "version": 3, 
                "name": "ipython"
            }
        }
    }, 
    "nbformat": 4
}